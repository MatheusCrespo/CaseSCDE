{
 "cells": [
  {
   "cell_type": "markdown",
   "metadata": {},
   "source": [
    "# Case - Data Analytics"
   ]
  },
  {
   "cell_type": "markdown",
   "metadata": {},
   "source": [
    "## Tarefas Python e SQLite"
   ]
  },
  {
   "cell_type": "markdown",
   "metadata": {},
   "source": [
    "* Crie um banco no SQLite utilizando o python, e salve nesse banco os dados do SCDE e os dados do cadastro. \\\n",
    "Dica: para ler o SCDE no python utilize o encoding = 'unicode_escape'.\n",
    "* No SQLite, realize join das tabelas de cadastro numa única tabela nova."
   ]
  },
  {
   "cell_type": "code",
   "execution_count": 1,
   "metadata": {},
   "outputs": [
    {
     "name": "stdout",
     "output_type": "stream",
     "text": [
      "2.6.0\n"
     ]
    }
   ],
   "source": [
    "import sqlite3\n",
    "from sqlite3 import Error\n",
    "\n",
    "\n",
    "def create_connection(db_file):\n",
    "    conn = None\n",
    "    try:\n",
    "        conn=sqlite3.connect(db_file)\n",
    "        print(sqlite3.version)\n",
    "    except Error as e:\n",
    "        print(e)\n",
    "    finally:\n",
    "        if conn:\n",
    "            conn.close()\n",
    "db = r\"C:\\\\Users\\\\ACER\\\\OneDrive\\\\Desktop\\\\Case\\\\DB_SCDE.db\"\n",
    "if __name__ == '__main__':\n",
    "   \n",
    "    create_connection(db)"
   ]
  },
  {
   "cell_type": "code",
   "execution_count": 3,
   "metadata": {},
   "outputs": [
    {
     "name": "stdout",
     "output_type": "stream",
     "text": [
      "      Agente      Ponto / Grupo        Data  Hora  Ativa C (kWh)  \\\n",
      "0          -  SPAJIVENTR-01 (L)  01/11/2021     1         4958.8   \n",
      "1          -  SPAJIVENTR-01 (L)  01/11/2021     2         4720.8   \n",
      "2          -  SPAJIVENTR-01 (L)  01/11/2021     3         4597.6   \n",
      "3          -  SPAJIVENTR-01 (L)  01/11/2021     4         4986.8   \n",
      "4          -  SPAJIVENTR-01 (L)  01/11/2021     5         5336.8   \n",
      "...      ...                ...         ...   ...            ...   \n",
      "20875      -  SPTDPIENTR101 (L)  26/01/2022    20            NaN   \n",
      "20876      -  SPTDPIENTR101 (L)  26/01/2022    21            NaN   \n",
      "20877      -  SPTDPIENTR101 (L)  26/01/2022    22            NaN   \n",
      "20878      -  SPTDPIENTR101 (L)  26/01/2022    23            NaN   \n",
      "20879      -  SPTDPIENTR101 (L)  26/01/2022    24            NaN   \n",
      "\n",
      "      Ativa G (kWh)  Reativa C (kVArh) Reativa G (kVArh) Qualidade  \\\n",
      "0                 0             1324.4                 0  Completo   \n",
      "1                 0             1190.0                 0  Completo   \n",
      "2                 0             1111.6                 0  Completo   \n",
      "3                 0             1338.4                 0  Completo   \n",
      "4                 0             1526.0                 0  Completo   \n",
      "...             ...                ...               ...       ...   \n",
      "20875           NaN                NaN               NaN  Faltante   \n",
      "20876           NaN                NaN               NaN  Faltante   \n",
      "20877           NaN                NaN               NaN  Faltante   \n",
      "20878           NaN                NaN               NaN  Faltante   \n",
      "20879           NaN                NaN               NaN  Faltante   \n",
      "\n",
      "                Origem  Unnamed: 10  Unnamed: 11  Unnamed: 12  \\\n",
      "0        COLETA DIÁRIA          NaN          NaN          NaN   \n",
      "1        COLETA DIÁRIA          NaN          NaN          NaN   \n",
      "2        COLETA DIÁRIA          NaN          NaN          NaN   \n",
      "3        COLETA DIÁRIA          NaN          NaN          NaN   \n",
      "4        COLETA DIÁRIA          NaN          NaN          NaN   \n",
      "...                ...          ...          ...          ...   \n",
      "20875  DADOS FALTANTES          NaN          NaN          NaN   \n",
      "20876  DADOS FALTANTES          NaN          NaN          NaN   \n",
      "20877  DADOS FALTANTES          NaN          NaN          NaN   \n",
      "20878  DADOS FALTANTES          NaN          NaN          NaN   \n",
      "20879  DADOS FALTANTES          NaN          NaN          NaN   \n",
      "\n",
      "        Rótulos de Linha  Soma de Ativa C (kWh)  \n",
      "0      PBITCPENTR101 (L)           1.201850e+05  \n",
      "1      RSCMB1ENTR101 (L)           1.876818e+08  \n",
      "2      SPAJIVENTR-01 (L)           9.176390e+06  \n",
      "3      SPFRP1ENTR101 (L)           9.304064e+05  \n",
      "4      SPFRP2ENTR101 (L)           1.140936e+06  \n",
      "...                  ...                    ...  \n",
      "20875                NaN                    NaN  \n",
      "20876                NaN                    NaN  \n",
      "20877                NaN                    NaN  \n",
      "20878                NaN                    NaN  \n",
      "20879                NaN                    NaN  \n",
      "\n",
      "[20880 rows x 15 columns]\n"
     ]
    }
   ],
   "source": [
    "import csv\n",
    "import pandas as pd\n",
    "\n",
    "Dados_SCDE = pd.read_csv('scde - unidades teste - Analista Dados Pleno.csv', sep = \";\", skiprows = 3, encoding = 'unicode_escape')\n",
    "db = r\"C:\\\\Users\\\\ACER\\\\OneDrive\\\\Desktop\\\\Case\\\\DB_SCDE.db\"\n",
    "conn = None\n",
    "conn=sqlite3.connect(db)\n",
    "Dados_SCDE.to_sql('Dados_SCDE', conn)\n",
    "print(Dados_SCDE1)"
   ]
  },
  {
   "cell_type": "code",
   "execution_count": 4,
   "metadata": {},
   "outputs": [
    {
     "name": "stdout",
     "output_type": "stream",
     "text": [
      "         COD   Unidades         Ponto_SCDE  Unnamed: 3\n",
      "0  000001-02   Unidade1  SPAJIVENTR-01 (L)          17\n",
      "1  031060-07   Unidade2  SPFRP2ENTR101 (L)          17\n",
      "2  031060-04   Unidade3  SPFRP1ENTR101 (L)          17\n",
      "3  001168-06   Unidade4  SPHAEBENTR101 (L)          17\n",
      "4  001168-08   Unidade5  SPHAVMENTR101 (L)          17\n",
      "5  000108-15   Unidade6  PBITCPENTR101 (L)          17\n",
      "6  000108-17   Unidade7  RSCMB1ENTR101 (L)          17\n",
      "7  097181-01   Unidade8  SPSHTTALADM04 (L)          17\n",
      "8  048168-21   Unidade9  SPTDPIENTR101 (L)          17\n",
      "9  048168-24  Unidade10  SPTDRPENTR101 (L)          17\n"
     ]
    },
    {
     "data": {
      "text/plain": [
       "10"
      ]
     },
     "execution_count": 4,
     "metadata": {},
     "output_type": "execute_result"
    }
   ],
   "source": [
    "Cadastro1 = pd.read_excel('Cadastro teste - Analista Dados Pleno.xlsx', sheet_name = 'cadastro1')\n",
    "print(Cadastro1)\n",
    "db = r\"C:\\\\Users\\\\ACER\\\\OneDrive\\\\Desktop\\\\Case\\\\DB_SCDE.db\"\n",
    "conn = None\n",
    "conn=sqlite3.connect(db)\n",
    "Cadastro1.to_sql('Cadastro1', conn)"
   ]
  },
  {
   "cell_type": "code",
   "execution_count": 5,
   "metadata": {},
   "outputs": [
    {
     "name": "stdout",
     "output_type": "stream",
     "text": [
      "         COD Grupo Econômico  \\\n",
      "0  000001-02          GRUPO1   \n",
      "1  000108-15          GRUPO4   \n",
      "2  000108-17          GRUPO4   \n",
      "3  001168-06          GRUPO2   \n",
      "4  001168-08          GRUPO2   \n",
      "5  031060-04          GRUPO3   \n",
      "6  031060-07          GRUPO3   \n",
      "7  048168-21          GRUPO6   \n",
      "8  048168-24          GRUPO6   \n",
      "9  097181-01          GRUPO5   \n",
      "\n",
      "                                       Célula gestor   Fornecedor  \\\n",
      "0  celula.cps01@comerc.com.br                    ...  Fornecedor3   \n",
      "1  celula.cgc01@comerc.com.br                    ...  Fornecedor1   \n",
      "2  celula.cgc01@comerc.com.br                    ...  Fornecedor3   \n",
      "3  celula.SP02@comerc.com.br                     ...  Fornecedor3   \n",
      "4  celula.SP02@comerc.com.br                     ...  Fornecedor3   \n",
      "5  celula.rp02@comerc.com.br                     ...  Fornecedor3   \n",
      "6  celula.rp02@comerc.com.br                     ...  Fornecedor3   \n",
      "7  celula.SP04@comerc.com.br                     ...  Fornecedor2   \n",
      "8  celula.SP04@comerc.com.br                     ...  Fornecedor2   \n",
      "9  celula.bg01@comerc.com.br                     ...  Fornecedor3   \n",
      "\n",
      "                    Distribuidora  \n",
      "0            CPFL PAULISTA         \n",
      "1            ENERGISA PARAIBA      \n",
      "2            RGE SUL               \n",
      "3  ENEL SP                         \n",
      "4  ENEL SP                         \n",
      "5            CPFL PAULISTA         \n",
      "6            CPFL PAULISTA         \n",
      "7            CPFL PAULISTA         \n",
      "8            CPFL PAULISTA         \n",
      "9  EDP SÃO PAULO                   \n"
     ]
    },
    {
     "data": {
      "text/plain": [
       "10"
      ]
     },
     "execution_count": 5,
     "metadata": {},
     "output_type": "execute_result"
    }
   ],
   "source": [
    "Cadastro2 = pd.read_excel('Cadastro teste - Analista Dados Pleno.xlsx', sheet_name = 'cadastro2')\n",
    "print(Cadastro2)\n",
    "db = r\"C:\\\\Users\\\\ACER\\\\OneDrive\\\\Desktop\\\\Case\\\\DB_SCDE.db\"\n",
    "conn = None\n",
    "conn=sqlite3.connect(db)\n",
    "Cadastro2.to_sql('Cadastro2', conn)"
   ]
  },
  {
   "cell_type": "markdown",
   "metadata": {},
   "source": [
    "create table Cadastro (\n",
    "\tCOD INT NOT NULL, \n",
    "\tUnidades VARCHAR(50), \n",
    "\tPonto_SCDE VARCHAR (20),\n",
    "\tGrupo_Economico varchar(10),\n",
    "\tcelula_gestor VARCHAR(50),\n",
    "\tFornecedor VARCHAR(50),\n",
    "\tDistribuidora VARCHAR(50)\n",
    "\t);\n",
    "\t\n",
    "insert into Cadastro\n",
    "\tSELECT \n",
    "\ta.COD, a.Unidades, a.Ponto_SCDE, b.'Grupo Econômico', b.'Célula Gestor', b.Fornecedor, b.Distribuidora\n",
    "\tfrom Cadastro1 a\n",
    "\tINNER JOIN Cadastro2 b ON A.COD = B.COD\n",
    "\n"
   ]
  },
  {
   "cell_type": "markdown",
   "metadata": {},
   "source": [
    "* Utilizando o python, calcule para cada mês de cada unidade: \\\n",
    "1) total de consumo em MWh \\\n",
    "2) média de consumo em MWh por dia da semana \\\n",
    "3) quantidade de horas zeradas \\\n",
    "4) quantidade de horas faltantes \\\n",
    "5) data com maior e menor consumo \n",
    "\n",
    "\n"
   ]
  },
  {
   "cell_type": "code",
   "execution_count": 178,
   "metadata": {},
   "outputs": [
    {
     "name": "stderr",
     "output_type": "stream",
     "text": [
      "C:\\Users\\ACER\\AppData\\Local\\Temp\\ipykernel_11968\\2489822925.py:55: SettingWithCopyWarning: \n",
      "A value is trying to be set on a copy of a slice from a DataFrame.\n",
      "Try using .loc[row_indexer,col_indexer] = value instead\n",
      "\n",
      "See the caveats in the documentation: https://pandas.pydata.org/pandas-docs/stable/user_guide/indexing.html#returning-a-view-versus-a-copy\n",
      "  df13['Data'] = pd.to_datetime(df12['Data'], format = \"%d/%m/%Y\")\n"
     ]
    },
    {
     "ename": "KeyError",
     "evalue": "'[  0   1   2   3   4   5   6   7   8   9  10  11  12  13  14  15  16  17\\n  18  19  20  21  22  23  24  25  26  27  28  29  30  31  32  33  34  35\\n  36  37  38  39  40  41  42  43  44  45  46  47  48  49  50  51  52  53\\n  54  55  56  57  58  59  60  61  62  63  64  65  66  67  68  69  70  71\\n  72  73  74  75  76  77  78  79  80  81  82  83  84  85  86  87  88  89\\n  90  91  92  93  94  95  96  97  98  99 100 101 102 103 104 105 106 107\\n 108 109 110 111 112 113 114 115 116 117 118 119 120 121 122 123 124 125\\n 126 127 128 129 130 131 132 133 134 135 136 137 138 139 140 141 142 143\\n 144 145 146 147 148 149 150 151 152 153 154 155 156 157 158 159 160 161\\n 162 163 164 165 166 167 168 169 170 171 172 173 174 175 176 177 178 179\\n 180 181 182 183 184 185 186 187 188 189 190 191 192 193 194 195 196 197\\n 198 199 200 201 202 203 204 205 206 207 208 209 210 211 212 213 214 215\\n 216 217 218 219 220 221 222 223 224 225 226 227 228 229 230 231 232 233\\n 234 235 236 237 238 239 240 241 242 243 244 245 246 247 248 249 250 251\\n 252 253 254 255 256 257 258 259 260 261 262 263 264 265 266 267 268 269\\n 270 271 272 273 274 275 276 277 278 279 280 281 282 283 284 285 286 287\\n 288 289 290 291 292 293 294 295 296 297 298 299 300 301 302 303 304 305\\n 306 307 308 309 310 311 312 313 314 315 316 317 318 319 320 321 322 323\\n 324 325 326 327 328 329 330 331 332 333 334 335 336 337 338 339 340 341\\n 342 343 344 345 346 347 348 349 350 351 352 353 354 355 356 357 358 359\\n 360 361 362 363 364 365 366 367 368 369 370 371 372 373 374 375 376 377\\n 378 379 380 381 382 383 384 385 386 387 388 389 390 391 392 393 394 395\\n 396 397 398 399 400 401 402 403 404 405 406 407 408 409 410 411 412 413\\n 414 415 416 417 418 419 420 421 422 423 424 425 426 427 428 429 430 431\\n 432 433 434 435 436 437 438 439 440 441 442 443 444 445 446 447 448 449\\n 450 451 452 453 454 455 456 457 458 459 460 461 462 463 464 465 466 467\\n 468 469 470 471 472 473 474 475 476 477 478 479 480 481 482 483 484 485\\n 486 487 488 489 490 491 492 493 494 495 496 497 498 499 500 501 502 503\\n 504 505 506 507 508 509 510 511 512 513 514 515 516 517 518 519 520 521\\n 522 523 524 525 526 527 528 529 530 531 532 533 534 535 536 537 538 539\\n 540 541 542 543 544 545 546 547 548 549 550 551 552 553 554 555 556 557\\n 558 559 560 561 562 563 564 565 566 567 568 569 570 571 572 573 574 575\\n 576 577 578 579 580 581 582 583 584 585 586 587 588 589 590 591 592 593\\n 594 595 596 597 598 599 600 601 602 603 604 605 606 607 608 609 610 611\\n 612 613 614 615 616 617 618 619 620 621 622 623 624 625 626 627 628 629\\n 630 631 632 633 634 635 636 637 638 639 640 641 642 643 644 645 646 647\\n 648 649 650 651 652 653 654 655 656 657 658 659 660 661 662 663 664 665\\n 666 667 668 669 670 671 672 673 674 675 676 677 678 679 680 681 682 683\\n 684 685 686 687 688 689 690 691 692 693 694 695 696 697 698 699 700 701\\n 702 703 704 705 706 707 708 709 710 711 712 713 714 715 716 717 718 719\\n 720 721 722 723 724 725 726 727 728 729 730 731 732 733 734 735 736 737\\n 738 739 740 741 742 743 744 745 746 747 748 749 750 751 752 753 754 755\\n 756 757 758 759 760 761 762 763 764 765 766 767 768 769 770 771 772 773\\n 774 775 776 777 778 779 780 781 782 783 784 785 786 787 788 789 790 791\\n 792 793 794 795 796 797 798 799 800 801 802 803 804 805 806 807 808 809\\n 810 811 812 813 814 815 816 817 818 819 820 821 822 823 824 825 826 827\\n 828 829 830 831 832 833 834 835 836 837 838 839 840 841 842 843 844 845\\n 846 847 848 849 850 851 852 853 854 855 856 857 858 859 860 861 862 863\\n 864 865 866 867 868 869] not in index'",
     "output_type": "error",
     "traceback": [
      "\u001b[1;31m---------------------------------------------------------------------------\u001b[0m",
      "\u001b[1;31mKeyError\u001b[0m                                  Traceback (most recent call last)",
      "Input \u001b[1;32mIn [178]\u001b[0m, in \u001b[0;36m<module>\u001b[1;34m\u001b[0m\n\u001b[0;32m     57\u001b[0m df15 \u001b[38;5;241m=\u001b[39m df14\u001b[38;5;241m.\u001b[39msum()\n\u001b[0;32m     58\u001b[0m df15\u001b[38;5;241m.\u001b[39mcolumns \u001b[38;5;241m=\u001b[39m [\u001b[38;5;124m'\u001b[39m\u001b[38;5;124mConsumo\u001b[39m\u001b[38;5;124m'\u001b[39m]\n\u001b[1;32m---> 59\u001b[0m \u001b[43mdf15\u001b[49m\u001b[38;5;241;43m.\u001b[39;49m\u001b[43mloc\u001b[49m\u001b[43m[\u001b[49m\u001b[43mdf15\u001b[49m\u001b[38;5;241;43m.\u001b[39;49m\u001b[43mreset_index\u001b[49m\u001b[43m(\u001b[49m\u001b[43m)\u001b[49m\u001b[38;5;241;43m.\u001b[39;49m\u001b[43mgroupby\u001b[49m\u001b[43m(\u001b[49m\u001b[43m[\u001b[49m\u001b[38;5;124;43m'\u001b[39;49m\u001b[38;5;124;43mPonto / Grupo\u001b[39;49m\u001b[38;5;124;43m'\u001b[39;49m\u001b[43m,\u001b[49m\u001b[38;5;124;43m'\u001b[39;49m\u001b[38;5;124;43mData\u001b[39;49m\u001b[38;5;124;43m'\u001b[39;49m\u001b[43m]\u001b[49m\u001b[43m)\u001b[49m\u001b[43m[\u001b[49m\u001b[38;5;124;43m'\u001b[39;49m\u001b[38;5;124;43mConsumo\u001b[39;49m\u001b[38;5;124;43m'\u001b[39;49m\u001b[43m]\u001b[49m\u001b[38;5;241;43m.\u001b[39;49m\u001b[43midxmax\u001b[49m\u001b[43m(\u001b[49m\u001b[43m)\u001b[49m\u001b[43m]\u001b[49m\n",
      "File \u001b[1;32m~\\AppData\\Local\\Programs\\Python\\Python310\\lib\\site-packages\\pandas\\core\\indexing.py:967\u001b[0m, in \u001b[0;36m_LocationIndexer.__getitem__\u001b[1;34m(self, key)\u001b[0m\n\u001b[0;32m    964\u001b[0m axis \u001b[38;5;241m=\u001b[39m \u001b[38;5;28mself\u001b[39m\u001b[38;5;241m.\u001b[39maxis \u001b[38;5;129;01mor\u001b[39;00m \u001b[38;5;241m0\u001b[39m\n\u001b[0;32m    966\u001b[0m maybe_callable \u001b[38;5;241m=\u001b[39m com\u001b[38;5;241m.\u001b[39mapply_if_callable(key, \u001b[38;5;28mself\u001b[39m\u001b[38;5;241m.\u001b[39mobj)\n\u001b[1;32m--> 967\u001b[0m \u001b[38;5;28;01mreturn\u001b[39;00m \u001b[38;5;28;43mself\u001b[39;49m\u001b[38;5;241;43m.\u001b[39;49m\u001b[43m_getitem_axis\u001b[49m\u001b[43m(\u001b[49m\u001b[43mmaybe_callable\u001b[49m\u001b[43m,\u001b[49m\u001b[43m \u001b[49m\u001b[43maxis\u001b[49m\u001b[38;5;241;43m=\u001b[39;49m\u001b[43maxis\u001b[49m\u001b[43m)\u001b[49m\n",
      "File \u001b[1;32m~\\AppData\\Local\\Programs\\Python\\Python310\\lib\\site-packages\\pandas\\core\\indexing.py:1191\u001b[0m, in \u001b[0;36m_LocIndexer._getitem_axis\u001b[1;34m(self, key, axis)\u001b[0m\n\u001b[0;32m   1188\u001b[0m     \u001b[38;5;28;01mif\u001b[39;00m \u001b[38;5;28mhasattr\u001b[39m(key, \u001b[38;5;124m\"\u001b[39m\u001b[38;5;124mndim\u001b[39m\u001b[38;5;124m\"\u001b[39m) \u001b[38;5;129;01mand\u001b[39;00m key\u001b[38;5;241m.\u001b[39mndim \u001b[38;5;241m>\u001b[39m \u001b[38;5;241m1\u001b[39m:\n\u001b[0;32m   1189\u001b[0m         \u001b[38;5;28;01mraise\u001b[39;00m \u001b[38;5;167;01mValueError\u001b[39;00m(\u001b[38;5;124m\"\u001b[39m\u001b[38;5;124mCannot index with multidimensional key\u001b[39m\u001b[38;5;124m\"\u001b[39m)\n\u001b[1;32m-> 1191\u001b[0m     \u001b[38;5;28;01mreturn\u001b[39;00m \u001b[38;5;28;43mself\u001b[39;49m\u001b[38;5;241;43m.\u001b[39;49m\u001b[43m_getitem_iterable\u001b[49m\u001b[43m(\u001b[49m\u001b[43mkey\u001b[49m\u001b[43m,\u001b[49m\u001b[43m \u001b[49m\u001b[43maxis\u001b[49m\u001b[38;5;241;43m=\u001b[39;49m\u001b[43maxis\u001b[49m\u001b[43m)\u001b[49m\n\u001b[0;32m   1193\u001b[0m \u001b[38;5;66;03m# nested tuple slicing\u001b[39;00m\n\u001b[0;32m   1194\u001b[0m \u001b[38;5;28;01mif\u001b[39;00m is_nested_tuple(key, labels):\n",
      "File \u001b[1;32m~\\AppData\\Local\\Programs\\Python\\Python310\\lib\\site-packages\\pandas\\core\\indexing.py:1132\u001b[0m, in \u001b[0;36m_LocIndexer._getitem_iterable\u001b[1;34m(self, key, axis)\u001b[0m\n\u001b[0;32m   1129\u001b[0m \u001b[38;5;28mself\u001b[39m\u001b[38;5;241m.\u001b[39m_validate_key(key, axis)\n\u001b[0;32m   1131\u001b[0m \u001b[38;5;66;03m# A collection of keys\u001b[39;00m\n\u001b[1;32m-> 1132\u001b[0m keyarr, indexer \u001b[38;5;241m=\u001b[39m \u001b[38;5;28;43mself\u001b[39;49m\u001b[38;5;241;43m.\u001b[39;49m\u001b[43m_get_listlike_indexer\u001b[49m\u001b[43m(\u001b[49m\u001b[43mkey\u001b[49m\u001b[43m,\u001b[49m\u001b[43m \u001b[49m\u001b[43maxis\u001b[49m\u001b[43m)\u001b[49m\n\u001b[0;32m   1133\u001b[0m \u001b[38;5;28;01mreturn\u001b[39;00m \u001b[38;5;28mself\u001b[39m\u001b[38;5;241m.\u001b[39mobj\u001b[38;5;241m.\u001b[39m_reindex_with_indexers(\n\u001b[0;32m   1134\u001b[0m     {axis: [keyarr, indexer]}, copy\u001b[38;5;241m=\u001b[39m\u001b[38;5;28;01mTrue\u001b[39;00m, allow_dups\u001b[38;5;241m=\u001b[39m\u001b[38;5;28;01mTrue\u001b[39;00m\n\u001b[0;32m   1135\u001b[0m )\n",
      "File \u001b[1;32m~\\AppData\\Local\\Programs\\Python\\Python310\\lib\\site-packages\\pandas\\core\\indexing.py:1327\u001b[0m, in \u001b[0;36m_LocIndexer._get_listlike_indexer\u001b[1;34m(self, key, axis)\u001b[0m\n\u001b[0;32m   1324\u001b[0m ax \u001b[38;5;241m=\u001b[39m \u001b[38;5;28mself\u001b[39m\u001b[38;5;241m.\u001b[39mobj\u001b[38;5;241m.\u001b[39m_get_axis(axis)\n\u001b[0;32m   1325\u001b[0m axis_name \u001b[38;5;241m=\u001b[39m \u001b[38;5;28mself\u001b[39m\u001b[38;5;241m.\u001b[39mobj\u001b[38;5;241m.\u001b[39m_get_axis_name(axis)\n\u001b[1;32m-> 1327\u001b[0m keyarr, indexer \u001b[38;5;241m=\u001b[39m \u001b[43max\u001b[49m\u001b[38;5;241;43m.\u001b[39;49m\u001b[43m_get_indexer_strict\u001b[49m\u001b[43m(\u001b[49m\u001b[43mkey\u001b[49m\u001b[43m,\u001b[49m\u001b[43m \u001b[49m\u001b[43maxis_name\u001b[49m\u001b[43m)\u001b[49m\n\u001b[0;32m   1329\u001b[0m \u001b[38;5;28;01mreturn\u001b[39;00m keyarr, indexer\n",
      "File \u001b[1;32m~\\AppData\\Local\\Programs\\Python\\Python310\\lib\\site-packages\\pandas\\core\\indexes\\multi.py:2589\u001b[0m, in \u001b[0;36mMultiIndex._get_indexer_strict\u001b[1;34m(self, key, axis_name)\u001b[0m\n\u001b[0;32m   2586\u001b[0m \u001b[38;5;28;01mif\u001b[39;00m \u001b[38;5;28mlen\u001b[39m(keyarr) \u001b[38;5;129;01mand\u001b[39;00m \u001b[38;5;129;01mnot\u001b[39;00m \u001b[38;5;28misinstance\u001b[39m(keyarr[\u001b[38;5;241m0\u001b[39m], \u001b[38;5;28mtuple\u001b[39m):\n\u001b[0;32m   2587\u001b[0m     indexer \u001b[38;5;241m=\u001b[39m \u001b[38;5;28mself\u001b[39m\u001b[38;5;241m.\u001b[39m_get_indexer_level_0(keyarr)\n\u001b[1;32m-> 2589\u001b[0m     \u001b[38;5;28;43mself\u001b[39;49m\u001b[38;5;241;43m.\u001b[39;49m\u001b[43m_raise_if_missing\u001b[49m\u001b[43m(\u001b[49m\u001b[43mkey\u001b[49m\u001b[43m,\u001b[49m\u001b[43m \u001b[49m\u001b[43mindexer\u001b[49m\u001b[43m,\u001b[49m\u001b[43m \u001b[49m\u001b[43maxis_name\u001b[49m\u001b[43m)\u001b[49m\n\u001b[0;32m   2590\u001b[0m     \u001b[38;5;28;01mreturn\u001b[39;00m \u001b[38;5;28mself\u001b[39m[indexer], indexer\n\u001b[0;32m   2592\u001b[0m \u001b[38;5;28;01mreturn\u001b[39;00m \u001b[38;5;28msuper\u001b[39m()\u001b[38;5;241m.\u001b[39m_get_indexer_strict(key, axis_name)\n",
      "File \u001b[1;32m~\\AppData\\Local\\Programs\\Python\\Python310\\lib\\site-packages\\pandas\\core\\indexes\\multi.py:2607\u001b[0m, in \u001b[0;36mMultiIndex._raise_if_missing\u001b[1;34m(self, key, indexer, axis_name)\u001b[0m\n\u001b[0;32m   2605\u001b[0m cmask \u001b[38;5;241m=\u001b[39m check \u001b[38;5;241m==\u001b[39m \u001b[38;5;241m-\u001b[39m\u001b[38;5;241m1\u001b[39m\n\u001b[0;32m   2606\u001b[0m \u001b[38;5;28;01mif\u001b[39;00m cmask\u001b[38;5;241m.\u001b[39many():\n\u001b[1;32m-> 2607\u001b[0m     \u001b[38;5;28;01mraise\u001b[39;00m \u001b[38;5;167;01mKeyError\u001b[39;00m(\u001b[38;5;124mf\u001b[39m\u001b[38;5;124m\"\u001b[39m\u001b[38;5;132;01m{\u001b[39;00mkeyarr[cmask]\u001b[38;5;132;01m}\u001b[39;00m\u001b[38;5;124m not in index\u001b[39m\u001b[38;5;124m\"\u001b[39m)\n\u001b[0;32m   2608\u001b[0m \u001b[38;5;66;03m# We get here when levels still contain values which are not\u001b[39;00m\n\u001b[0;32m   2609\u001b[0m \u001b[38;5;66;03m# actually in Index anymore\u001b[39;00m\n\u001b[0;32m   2610\u001b[0m \u001b[38;5;28;01mraise\u001b[39;00m \u001b[38;5;167;01mKeyError\u001b[39;00m(\u001b[38;5;124mf\u001b[39m\u001b[38;5;124m\"\u001b[39m\u001b[38;5;132;01m{\u001b[39;00mkeyarr\u001b[38;5;132;01m}\u001b[39;00m\u001b[38;5;124m not in index\u001b[39m\u001b[38;5;124m\"\u001b[39m)\n",
      "\u001b[1;31mKeyError\u001b[0m: '[  0   1   2   3   4   5   6   7   8   9  10  11  12  13  14  15  16  17\\n  18  19  20  21  22  23  24  25  26  27  28  29  30  31  32  33  34  35\\n  36  37  38  39  40  41  42  43  44  45  46  47  48  49  50  51  52  53\\n  54  55  56  57  58  59  60  61  62  63  64  65  66  67  68  69  70  71\\n  72  73  74  75  76  77  78  79  80  81  82  83  84  85  86  87  88  89\\n  90  91  92  93  94  95  96  97  98  99 100 101 102 103 104 105 106 107\\n 108 109 110 111 112 113 114 115 116 117 118 119 120 121 122 123 124 125\\n 126 127 128 129 130 131 132 133 134 135 136 137 138 139 140 141 142 143\\n 144 145 146 147 148 149 150 151 152 153 154 155 156 157 158 159 160 161\\n 162 163 164 165 166 167 168 169 170 171 172 173 174 175 176 177 178 179\\n 180 181 182 183 184 185 186 187 188 189 190 191 192 193 194 195 196 197\\n 198 199 200 201 202 203 204 205 206 207 208 209 210 211 212 213 214 215\\n 216 217 218 219 220 221 222 223 224 225 226 227 228 229 230 231 232 233\\n 234 235 236 237 238 239 240 241 242 243 244 245 246 247 248 249 250 251\\n 252 253 254 255 256 257 258 259 260 261 262 263 264 265 266 267 268 269\\n 270 271 272 273 274 275 276 277 278 279 280 281 282 283 284 285 286 287\\n 288 289 290 291 292 293 294 295 296 297 298 299 300 301 302 303 304 305\\n 306 307 308 309 310 311 312 313 314 315 316 317 318 319 320 321 322 323\\n 324 325 326 327 328 329 330 331 332 333 334 335 336 337 338 339 340 341\\n 342 343 344 345 346 347 348 349 350 351 352 353 354 355 356 357 358 359\\n 360 361 362 363 364 365 366 367 368 369 370 371 372 373 374 375 376 377\\n 378 379 380 381 382 383 384 385 386 387 388 389 390 391 392 393 394 395\\n 396 397 398 399 400 401 402 403 404 405 406 407 408 409 410 411 412 413\\n 414 415 416 417 418 419 420 421 422 423 424 425 426 427 428 429 430 431\\n 432 433 434 435 436 437 438 439 440 441 442 443 444 445 446 447 448 449\\n 450 451 452 453 454 455 456 457 458 459 460 461 462 463 464 465 466 467\\n 468 469 470 471 472 473 474 475 476 477 478 479 480 481 482 483 484 485\\n 486 487 488 489 490 491 492 493 494 495 496 497 498 499 500 501 502 503\\n 504 505 506 507 508 509 510 511 512 513 514 515 516 517 518 519 520 521\\n 522 523 524 525 526 527 528 529 530 531 532 533 534 535 536 537 538 539\\n 540 541 542 543 544 545 546 547 548 549 550 551 552 553 554 555 556 557\\n 558 559 560 561 562 563 564 565 566 567 568 569 570 571 572 573 574 575\\n 576 577 578 579 580 581 582 583 584 585 586 587 588 589 590 591 592 593\\n 594 595 596 597 598 599 600 601 602 603 604 605 606 607 608 609 610 611\\n 612 613 614 615 616 617 618 619 620 621 622 623 624 625 626 627 628 629\\n 630 631 632 633 634 635 636 637 638 639 640 641 642 643 644 645 646 647\\n 648 649 650 651 652 653 654 655 656 657 658 659 660 661 662 663 664 665\\n 666 667 668 669 670 671 672 673 674 675 676 677 678 679 680 681 682 683\\n 684 685 686 687 688 689 690 691 692 693 694 695 696 697 698 699 700 701\\n 702 703 704 705 706 707 708 709 710 711 712 713 714 715 716 717 718 719\\n 720 721 722 723 724 725 726 727 728 729 730 731 732 733 734 735 736 737\\n 738 739 740 741 742 743 744 745 746 747 748 749 750 751 752 753 754 755\\n 756 757 758 759 760 761 762 763 764 765 766 767 768 769 770 771 772 773\\n 774 775 776 777 778 779 780 781 782 783 784 785 786 787 788 789 790 791\\n 792 793 794 795 796 797 798 799 800 801 802 803 804 805 806 807 808 809\\n 810 811 812 813 814 815 816 817 818 819 820 821 822 823 824 825 826 827\\n 828 829 830 831 832 833 834 835 836 837 838 839 840 841 842 843 844 845\\n 846 847 848 849 850 851 852 853 854 855 856 857 858 859 860 861 862 863\\n 864 865 866 867 868 869] not in index'"
     ]
    }
   ],
   "source": [
    "\n",
    "import pandas as pd\n",
    "from pandas import DataFrame\n",
    "from datetime import datetime, timedelta\n",
    "\n",
    "#1)\n",
    "\n",
    "df = pd.read_csv('scde - unidades teste - Analista Dados Pleno.csv', sep = \";\", skiprows = 3, encoding = 'unicode_escape', decimal = '.', index_col=1)\n",
    "df1 = df[['Data','Ativa C (kWh)']]\n",
    "mes =  df1['Data'].str[3:5]\n",
    "df2 = df1.assign(mes =  df1['Data'].str[3:5])\n",
    "df3 = df2[['mes','Ativa C (kWh)']]\n",
    "df3.columns = ['Mes', 'Consumo (MWh)']\n",
    "p_mes = df3.groupby(['Ponto / Grupo','Mes'])\n",
    "\n",
    "#print(p_mes.sum()/1000)\n",
    "\n",
    "#2)\n",
    "\n",
    "df3['Data'] = pd.to_datetime(df1['Data'], format = \"%d/%m/%Y\")\n",
    "dias_ptbr = {'Sunday':'Domingo', 'Monday':'Segunda-feira', 'Tuesday':'Terça-feira', 'Wednesday':'Quarta-feira', 'Thursday':'Quinta-feira', 'Friday':'Sexta-feira', 'Saturday':'Sábado'}\n",
    "dia_semana = df3['Data'].dt.day_name().replace(dias_ptbr)\n",
    "df4 = df3.assign(dia_semana = df3['Data'].dt.day_name().replace(dias_ptbr))\n",
    "df5 = df4[['Mes','dia_semana','Consumo (MWh)']]\n",
    "df5.columns = ['Mes','dia_semana','Consumo Medio (MWh)']\n",
    "p_dia_semana = df5.groupby(['Ponto / Grupo','Mes','dia_semana'])\n",
    "\n",
    "#print(p_dia_semana.mean())\n",
    "\n",
    "#3)\n",
    "\n",
    "df6 = df3[['Mes', 'Consumo (MWh)']]\n",
    "df7 = df6[df6['Consumo (MWh)'] == 0]\n",
    "df7.columns = ['Mes','Contagem Zerados']\n",
    "cont_zeros = df7.groupby(['Ponto / Grupo','Mes'])\n",
    "\n",
    "#print(cont_zeros.count())\n",
    "\n",
    "\n",
    "#4)\n",
    "\n",
    "\n",
    "df8 = df[['Data','Origem']]\n",
    "df9 = df3.assign(Origem = df8['Origem'])\n",
    "df10 = df9[['Mes','Origem']]\n",
    "df11 = df10[df10['Origem'] == 'DADOS FALTANTES']\n",
    "df11.columns = ['Mes', 'Dados Faltantes']\n",
    "Cont_Falt = df11.groupby(['Ponto / Grupo','Mes'])\n",
    "#print(Cont_Falt.count())\n",
    "\n",
    "\n",
    "#5)\n",
    "\n",
    "df12 = pd.read_csv('scde - unidades teste - Analista Dados Pleno.csv', sep = \";\", skiprows = 3, encoding = 'unicode_escape', decimal = '.')\n",
    "df13 = df12[['Ponto / Grupo','Data','Ativa C (kWh)']]\n",
    "df13['Data'] = pd.to_datetime(df12['Data'], format = \"%d/%m/%Y\")\n",
    "df14 = df13.groupby(['Ponto / Grupo','Data'])\n",
    "df15 = df14.sum()\n",
    "df15.columns = ['Consumo']\n",
    "df15.loc[df15.reset_index().groupby(['Ponto / Grupo','Data'])['Consumo'].idxmax()]\n",
    "#df15.reset_index(inplace = True)\n",
    "\n",
    "#df16 = df15.loc[df15['Ativa C (kWh)'].idxmax()]\n",
    "#df12.set_index(['Data'], inplace = True)\n",
    "#Cons_Max = df12.groupby(['Ponto / Grupo'])\n",
    "#print(Cons_Max.max())\n",
    "#df12.sort_values(by = ['Consumo Maximo'], ascending = False)\n",
    "#Cons_Max = df12.groupby(['Ponto / Grupo'])\n",
    "#Cons_Max.head(1)\n",
    "#df12.idxmax(axis=0)\n",
    "\n",
    "#df12.columns = ['Max', 'Data']\n",
    "#df12.groupby(['Ponto / Grupo']).Max.max()\n",
    "#df12.reset_index\n",
    "#df13.set_index(['Ponto / Grupo','Data'], inplace = True)\n",
    "\n",
    "#Cons_Max = df13.groupby(['Ponto / Grupo'])\n",
    "#df13.idxmax()\n",
    "#print(Cons_Max.max())\n",
    "#print(df15[df15.Consumo ==  df15.Consumo.max()])\n"
   ]
  },
  {
   "cell_type": "markdown",
   "metadata": {},
   "source": [
    "* No SQlite, crie uma view para o mês de janeiro com os seguintes dados para cada unidade: \\\n",
    "1) total de consumo em MWh \\\n",
    "2) quantidade de horas zeradas \\\n",
    "3) quantidade de horas faltantes \\\n",
    "4) MWm"
   ]
  },
  {
   "cell_type": "code",
   "execution_count": null,
   "metadata": {},
   "outputs": [],
   "source": [
    "select * from Perfil_Jan\n",
    "\n",
    "/*Só consegui criando a tabela Zeros sem ser temporária - faltou um pouco de domínio em views\n",
    "pontos de atenção: SQlite n cria variáveis (?); difícil manipulação com datas; demais funções bem restritas*/\n",
    "\n",
    "Create TABLE Zeros as\n",
    "\tselect d.'Ponto / Grupo' as Ponto, count(*) as ContZero from Dados_SCDE d\n",
    "\t\tWHERE d.'Ativa C (kWh)' = 0\n",
    "\t\tand d.Data like '%/01/%'\n",
    "\t\tGROUP by Ponto\n",
    "\t\n",
    "select * from Zeros\n",
    "\n",
    "create view Perfil_Jan\n",
    "as\n",
    "\tselect \n",
    "\td.'Ponto / Grupo' as Ponto, \n",
    "\tsum(d.'Ativa C (kWh)') as Consumo_Janeiro, \n",
    "\t(count(d.'Ponto / Grupo')- count(d.'Ativa C (kWh)')) as Horas_Faltantes, \n",
    "\tifnull(Zeros.ContZero,0) as Horas_Zeradas, \n",
    "\tavg(d.'Ativa C (kWh)') as MWm,\n",
    "\tcount(*)\tfrom Dados_SCDE d\n",
    "\tleft join Zeros on d.'Ponto / Grupo' = Zeros.Ponto\n",
    "\twhere d.Data like '%/01/%'\n",
    "\tGROUP by d.'Ponto / Grupo'o'\n"
   ]
  },
  {
   "cell_type": "markdown",
   "metadata": {},
   "source": [
    "* No SQlite, utilize a view de unidades para apresentar os dados abaixo para cada distribuidora: \\\n",
    "1) total de unidades na distribuidora \\\n",
    "2) total de consumo em MWh \\\n",
    "3) quantidade de horas zeradas \\\n",
    "4) quantidade de horas faltantes \\\n",
    "5) MWm"
   ]
  },
  {
   "cell_type": "code",
   "execution_count": null,
   "metadata": {},
   "outputs": [],
   "source": [
    "Create view Perfil_Distr\n",
    "as\n",
    "\tselect c.Distribuidora, sum(Consumo_Janeiro) as Consumo_Dist, sum(Horas_Zeradas) as Horas_Zeradas, sum(Horas_Faltantes) as Horas_Faltantes ,MWm from Perfil_Jan\n",
    "\tinner join Cadastro c\n",
    "\ton Ponto = c.Ponto_SCDE\n",
    "\tgroup by c.Distribuidora\n",
    "\n",
    "select * from Perfil_Distr"
   ]
  },
  {
   "cell_type": "markdown",
   "metadata": {},
   "source": [
    "* No Jupyter Notebook, crie os seguintes gráficos: \\\n",
    "1) gráfico de linha com o consumo de uma unidade para cada mês (3 gráficos) \\\n",
    "2) gráfico de barra com a quantidade de unidades por fornecedor \\\n",
    "3) gráfico de barra com a quantidade de unidades por célula"
   ]
  },
  {
   "cell_type": "code",
   "execution_count": 180,
   "metadata": {},
   "outputs": [
    {
     "data": {
      "image/png": "[encoded data removed]",
      "text/plain": [
       "<Figure size 432x288 with 1 Axes>"
      ]
     },
     "metadata": {
      "needs_background": "light"
     },
     "output_type": "display_data"
    },
    {
     "data": {
      "image/png": "[encoded data removed]",
      "text/plain": [
       "<Figure size 432x288 with 1 Axes>"
      ]
     },
     "metadata": {
      "needs_background": "light"
     },
     "output_type": "display_data"
    },
    {
     "data": {
      "image/png": "[encoded data removed]",
      "text/plain": [
       "<Figure size 432x288 with 1 Axes>"
      ]
     },
     "metadata": {
      "needs_background": "light"
     },
     "output_type": "display_data"
    }
   ],
   "source": [
    "import numpy as np \n",
    "import matplotlib.pyplot as plt\n",
    "\n",
    "from pandasql import sqldf\n",
    "#1)\n",
    "\n",
    "\n",
    "gf= df3.loc['SPAJIVENTR-01 (L)']\n",
    "gf1 = gf[gf['Mes'] == '11']\n",
    "gf11 = gf1[['Consumo (MWh)']]\n",
    "gf11.columns = ['Consumo - Novembro']\n",
    "gf11['Consumo - Novembro'].plot(title = 'Perfil de Carga - Novembro')\n",
    "#print(gf11)\n",
    "\n",
    "gf= df3.loc['SPAJIVENTR-01 (L)']\n",
    "gf2 = gf[gf['Mes'] == '12']\n",
    "gf22 = gf2[['Consumo (MWh)']]\n",
    "gf22.columns = ['Consumo - Dezembro']\n",
    "#gf22['Consumo - Dezembro'].plot(title = 'Perfil de Carga - Dezembro')\n",
    "\n",
    "gf= df3.loc['SPAJIVENTR-01 (L)']\n",
    "gf3 = gf[gf['Mes'] == '01']\n",
    "gf33 = gf3[['Consumo (MWh)']]\n",
    "gf33.columns = ['Consumo - Janeiro']\n",
    "#gf33['Consumo - Janeiro'].plot(title = 'Perfil de Carga - Dezembro')\n",
    "\n",
    "\n",
    "\n",
    "#2)\n",
    "\n",
    "\n",
    "conn=sqlite3.connect(db)\n",
    "db = r\"C:\\\\Users\\\\ACER\\\\OneDrive\\\\Desktop\\\\Case\\\\DB_SCDE.db\"\n",
    "\n",
    "dfsql = pd.read_sql_query(\"SELECT * FROM Cadastro\",conn)\n",
    "\n",
    "sdf = dfsql[['Unidades','Fornecedor']]\n",
    "sdf1 = sdf.groupby(['Fornecedor'])\n",
    "sdf2 = sdf1.count()\n",
    "graf1 = sdf2.plot(kind = 'bar', title = 'Qtde Unidades - por Fornecedor')\n",
    "\n",
    "sdf3 = dfsql[['Unidades','celula_gestor']]\n",
    "sdf4 = sdf3.groupby(['celula_gestor'])\n",
    "sdf5 = sdf4.count()\n",
    "graf2 = sdf5.plot(kind ='bar', title = 'Qtde Unidades - por Célula')\n"
   ]
  },
  {
   "cell_type": "markdown",
   "metadata": {},
   "source": [
    "* No Power BI, crie gráficos: \\\n",
    "1) Com informações sobre o consumo das unidades \\\n",
    "2) Com agrupamentos utilizando os atributos dos dados cadastrais \\\n",
    "3) Crie alguma outra visualização com quaisquer dados do seu interesse."
   ]
  },
  {
   "cell_type": "markdown",
   "metadata": {},
   "source": [
    "Arquivo .pbix e-mail + GitHub (com prints)"
   ]
  },
  {
   "cell_type": "markdown",
   "metadata": {},
   "source": [
    "Para manipular o SQLite, utilize o https://sqlitebrowser.org/"
   ]
  }
 ],
 "metadata": {
  "kernelspec": {
   "display_name": "Python 3 (ipykernel)",
   "language": "python",
   "name": "python3"
  },
  "language_info": {
   "codemirror_mode": {
    "name": "ipython",
    "version": 3
   },
   "file_extension": ".py",
   "mimetype": "text/x-python",
   "name": "python",
   "nbconvert_exporter": "python",
   "pygments_lexer": "ipython3",
   "version": "3.10.2"
  }
 },
 "nbformat": 4,
 "nbformat_minor": 4
}
